{
 "cells": [
  {
   "cell_type": "code",
   "execution_count": null,
   "id": "corporate-athletics",
   "metadata": {},
   "outputs": [],
   "source": [
    "import numpy as np\n",
    "import cv2\n",
    "import time"
   ]
  },
  {
   "cell_type": "code",
   "execution_count": null,
   "id": "found-banking",
   "metadata": {},
   "outputs": [],
   "source": [
    "# to capture the feed from the webcam. The parameter for video capture is 0 because it corresponds to the primary inbuilt webcam on the machine.\n",
    "cap = cv2.VideoCapture(0)\n",
    "time.sleep(2)"
   ]
  },
  {
   "cell_type": "code",
   "execution_count": null,
   "id": "empirical-senator",
   "metadata": {},
   "outputs": [],
   "source": [
    "# loop to read each frame through the camera and capture the background\n",
    "\n",
    "background = 0\n",
    "\n",
    "for i in range(30):\n",
    "    ret,background = cap.read()"
   ]
  },
  {
   "cell_type": "code",
   "execution_count": null,
   "id": "boolean-penalty",
   "metadata": {},
   "outputs": [],
   "source": [
    "# capturing the image of the person with the cloak through each frame while the camera is open\n",
    "while(cap.isOpened()):\n",
    "     ret,img = cap.read()\n",
    "     \n",
    "     if not ret:\n",
    "            break\n",
    "\n",
    "# converting RGB to HSV, takes two parameters: which image is being operated on and the flag that specifies from which color space to which color space the image is being converted.\n",
    "hsv = cv2.cvtColor(img, cv2.COLOR_BGR2HSV)"
   ]
  },
  {
   "cell_type": "code",
   "execution_count": null,
   "id": "boolean-upgrade",
   "metadata": {},
   "outputs": [],
   "source": [
    "# to detect the red color cloth in the frame, define the upper and lower bound to create a range. So the lower red is lightest values of red and upper values is the darkest values of red that are possible. Beyond this range the color is different.\n",
    "# the mask is used to differentiate between the rest of the image and the cloak.\n",
    "lower_red = np.array([0, 120, 70])\n",
    "upper_red = np.array([10, 255, 255])\n",
    "mask1 = cv2.inRange(hsv,lower_red, upper_red)\n",
    "\n",
    "# now to differentiate between the cloak and the background. Red appears in these range of values as well so they need to be considered.\n",
    "lower_red = np.array([170, 120, 70])\n",
    "upper_red = np.array([180, 255, 255])\n",
    "mask2 = cv2.inRange(hsv,lower_red, upper_red)\n",
    "\n",
    "#now wherever the color red is found, that portion will be saved in the mask variables. Storing them both in one variable by the logical OR operator to make sure all red areas are accounted for.\n",
    "mask1 = mask1 + mask2\n",
    "\n"
   ]
  },
  {
   "cell_type": "code",
   "execution_count": null,
   "id": "surprising-pressure",
   "metadata": {},
   "outputs": [],
   "source": [
    "#segmenting using morphology and dilation. Reduces the noise present in feed and smoothens out the feed for a certain number of iterations\n",
    "mask1 = cv2.morphologyEx(mask1, cv2.MORPH_OPEN, np.ones((3,3), np.uint8), iterations = 2)\n",
    "mask1 = cv2.morphologyEx(mask1, cv2.MORPH_DILATE, np.ones((3,3), np.uint8), iterations = 1)"
   ]
  },
  {
   "cell_type": "code",
   "execution_count": null,
   "id": "ultimate-equilibrium",
   "metadata": {},
   "outputs": [],
   "source": [
    "# negating the mask2\n",
    "mask2 = cv2.bitwise_not(mask1)"
   ]
  },
  {
   "cell_type": "code",
   "execution_count": null,
   "id": "fitted-windows",
   "metadata": {},
   "outputs": [],
   "source": [
    "#final result. res1 has the background part of the frame and res2 has the data for the cloak part of the frame\n",
    "\n",
    "res1 = cv2.bitwise_and(background, background, mask=mask1)\n",
    "res2 = cv2.bitwise_and(img, img, mask=mask2)\n"
   ]
  },
  {
   "cell_type": "code",
   "execution_count": null,
   "id": "protective-allowance",
   "metadata": {},
   "outputs": [],
   "source": [
    "# linearly adding the two results together to get the final output where we do alpha(1) times of res1, beta(1) times of res2, plus gamma(0)\n",
    "final_output = cv2.addWeighted(res1,1,res2,1,0)"
   ]
  },
  {
   "cell_type": "code",
   "execution_count": null,
   "id": "authorized-train",
   "metadata": {},
   "outputs": [],
   "source": [
    "#output, takes two parameters, the window title and the output variable.\n",
    "cv2.imshow('invisibility cloak',final_output)\n",
    "\n",
    "#close it when esc key is pressed. 27 is the ascii value of the escape key\n",
    "k = cv2.waitKey(10)\n",
    "if k==27:\n",
    "    break"
   ]
  },
  {
   "cell_type": "code",
   "execution_count": null,
   "id": "alleged-niagara",
   "metadata": {},
   "outputs": [],
   "source": [
    "cap.release()\n",
    "cv2.destroyAllWindows()"
   ]
  }
 ],
 "metadata": {
  "kernelspec": {
   "display_name": "Python 3",
   "language": "python",
   "name": "python3"
  },
  "language_info": {
   "codemirror_mode": {
    "name": "ipython",
    "version": 3
   },
   "file_extension": ".py",
   "mimetype": "text/x-python",
   "name": "python",
   "nbconvert_exporter": "python",
   "pygments_lexer": "ipython3",
   "version": "3.9.2"
  }
 },
 "nbformat": 4,
 "nbformat_minor": 5
}
