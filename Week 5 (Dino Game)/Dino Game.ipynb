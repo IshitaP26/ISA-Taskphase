{
 "cells": [
  {
   "cell_type": "code",
   "execution_count": 1,
   "id": "organized-poland",
   "metadata": {},
   "outputs": [],
   "source": [
    "import pyautogui\n",
    "from PIL import Image, ImageGrab\n",
    "import time"
   ]
  },
  {
   "cell_type": "code",
   "execution_count": 2,
   "id": "young-translation",
   "metadata": {},
   "outputs": [],
   "source": [
    "def click(key):\n",
    "    pyautogui.keyDown(key)\n",
    "    return"
   ]
  },
  {
   "cell_type": "code",
   "execution_count": 3,
   "id": "stylish-freeze",
   "metadata": {},
   "outputs": [],
   "source": [
    "def Collision(data):\n",
    "# checking collision for birds\n",
    "    for i in range(530,560):\n",
    "        for i in range(80,127):\n",
    "            if data[i,j] < 171:\n",
    "                click(\"down\")\n",
    "                return\n",
    "# checking collision with trees\n",
    "    for i in range(530,620):\n",
    "        for j in range(130,160):\n",
    "            if data[i,j]<100:\n",
    "                click(\"up\")\n",
    "                return\n",
    "    return"
   ]
  },
  {
   "cell_type": "code",
   "execution_count": null,
   "id": "resident-delight",
   "metadata": {},
   "outputs": [],
   "source": [
    "if __name__ == \"__main__\":\n",
    "    time.sleep(5)\n",
    "    click('up')\n",
    "    \n",
    "    while True:\n",
    "        image = ImageGrab.grab().convert('L')\n",
    "        data = image.load()\n",
    "        Collision(data)"
   ]
  }
 ],
 "metadata": {
  "kernelspec": {
   "display_name": "Python 3",
   "language": "python",
   "name": "python3"
  },
  "language_info": {
   "codemirror_mode": {
    "name": "ipython",
    "version": 3
   },
   "file_extension": ".py",
   "mimetype": "text/x-python",
   "name": "python",
   "nbconvert_exporter": "python",
   "pygments_lexer": "ipython3",
   "version": "3.9.4"
  }
 },
 "nbformat": 4,
 "nbformat_minor": 5
}
