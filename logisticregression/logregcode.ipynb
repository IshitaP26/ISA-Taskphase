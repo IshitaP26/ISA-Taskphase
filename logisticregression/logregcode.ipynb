{
 "cells": [
  {
   "cell_type": "code",
   "execution_count": 1,
   "id": "ahead-latin",
   "metadata": {},
   "outputs": [],
   "source": [
    "import matplotlib.pyplot as plt\n"
   ]
  },
  {
   "cell_type": "code",
   "execution_count": 2,
   "id": "collected-leadership",
   "metadata": {},
   "outputs": [
    {
     "name": "stdout",
     "output_type": "stream",
     "text": [
      "\n",
      "Enter number of points to be evaluated:10\n"
     ]
    }
   ],
   "source": [
    "# input data from user\n",
    "size = int(input(\"\\nEnter number of points to be evaluated:\"))"
   ]
  },
  {
   "cell_type": "code",
   "execution_count": 3,
   "id": "soviet-marriage",
   "metadata": {},
   "outputs": [
    {
     "name": "stdout",
     "output_type": "stream",
     "text": [
      "Enter the y coordinates: \n",
      "0 0 0 0 0 1 1 1 1 1\n"
     ]
    }
   ],
   "source": [
    "# getting the y coordinates for the data\n",
    "print(\"Enter the y coordinates: \")\n",
    "Y = list(map(float, input().split()))"
   ]
  },
  {
   "cell_type": "code",
   "execution_count": 4,
   "id": "defensive-throat",
   "metadata": {},
   "outputs": [
    {
     "name": "stdout",
     "output_type": "stream",
     "text": [
      "Enter the X1 coordinates: \n",
      "2.7810836\t1.465489372\t3.396561688  1.38807019  3.06407232\t7.627531214\t5.332441248\t6.922596716\t8.675418651  7.673756466\n"
     ]
    }
   ],
   "source": [
    "# getting the x1 coordinates\n",
    "print(\"Enter the X1 coordinates: \")\n",
    "X1 = list(map(float,input().split()))"
   ]
  },
  {
   "cell_type": "code",
   "execution_count": 11,
   "id": "median-completion",
   "metadata": {},
   "outputs": [
    {
     "name": "stdout",
     "output_type": "stream",
     "text": [
      "Enter the X2 coordinates: \n",
      "2.550537003\t2.362125076\t4.400293529\t1.850220317\t3.005305973\t2.759262235\t2.088626775\t1.77106367\t-0.2420686549\t\t3.508563011\n"
     ]
    }
   ],
   "source": [
    "# getting the x2 coordinates\n",
    "print(\"Enter the X2 coordinates: \")\n",
    "X2 = list(map(float,input().split()))"
   ]
  },
  {
   "cell_type": "code",
   "execution_count": 35,
   "id": "informal-apartment",
   "metadata": {},
   "outputs": [
    {
     "data": {
      "text/plain": [
       "<matplotlib.collections.PathCollection at 0x1b917a901f0>"
      ]
     },
     "execution_count": 35,
     "metadata": {},
     "output_type": "execute_result"
    },
    {
     "data": {
      "image/png": "[encoded data removed]",
      "text/plain": [
       "<Figure size 432x288 with 1 Axes>"
      ]
     },
     "metadata": {
      "needs_background": "light"
     },
     "output_type": "display_data"
    }
   ],
   "source": [
    "plt.scatter(X1,X2,Y,color='red')"
   ]
  },
  {
   "cell_type": "code",
   "execution_count": 47,
   "id": "special-oliver",
   "metadata": {},
   "outputs": [
    {
     "name": "stdout",
     "output_type": "stream",
     "text": [
      "Enter the number of iterations: 5\n"
     ]
    }
   ],
   "source": [
    "# getting the number of iterations\n",
    "iter = int(input(\"Enter the number of iterations: \"))"
   ]
  },
  {
   "cell_type": "code",
   "execution_count": 51,
   "id": "parallel-launch",
   "metadata": {
    "scrolled": true
   },
   "outputs": [
    {
     "ename": "SyntaxError",
     "evalue": "invalid syntax (<ipython-input-51-4047d4307615>, line 5)",
     "output_type": "error",
     "traceback": [
      "\u001b[1;36m  File \u001b[1;32m\"<ipython-input-51-4047d4307615>\"\u001b[1;36m, line \u001b[1;32m5\u001b[0m\n\u001b[1;33m    b0 = b0 + 0.3*(Y[i]-pred)*pred*(1-pred)*1\u001b[0m\n\u001b[1;37m    ^\u001b[0m\n\u001b[1;31mSyntaxError\u001b[0m\u001b[1;31m:\u001b[0m invalid syntax\n"
     ]
    }
   ],
   "source": [
    "#for this data set, the output = b0 + b1*X1 + b2*X2 where b0, b1 and b2 are all coefficients which will be manipulated based on the data set to reach the best value. To start, we will take b0=0,b1=0 and b2=0. Alpha(learning rate) will be taken as 0.3. Since b0 does not have an initial x value input, it has simply been multiplied by 1.\n",
    "\n",
    "for i in range(iter):\n",
    "    pred = 1/(1+(2.71828**(-(b0+(b1*X1[i])+(b2*X2[i]))))\n",
    "    b0 = b0 + 0.3*(Y[i]-pred)*pred*(1-pred)*1\n",
    "    b1 = b1 + 0.3*(Y[i]-pred)*pred*(1-pred)*X1[i]\n",
    "    b2 = b2 + 0.3*(Y[i]-pred)*pred*(1-pred)*X2[i]\n",
    "    "
   ]
  },
  {
   "cell_type": "code",
   "execution_count": 49,
   "id": "successful-quarter",
   "metadata": {
    "scrolled": false
   },
   "outputs": [
    {
     "name": "stdout",
     "output_type": "stream",
     "text": [
      "0 0 0\n"
     ]
    }
   ],
   "source": [
    "print(b0,b1,b2)"
   ]
  },
  {
   "cell_type": "code",
   "execution_count": 52,
   "id": "endangered-origin",
   "metadata": {
    "scrolled": false
   },
   "outputs": [
    {
     "name": "stdout",
     "output_type": "stream",
     "text": [
      "50.0\n",
      "50.0\n",
      "50.0\n",
      "50.0\n",
      "50.0\n",
      "50.0\n",
      "50.0\n",
      "50.0\n",
      "50.0\n",
      "50.0\n"
     ]
    }
   ],
   "source": [
    "#using the final coefficients obtained, the final probabilities for each of the inputs can be determined\n",
    "for i in range(len(Y)):\n",
    "    prob = (1/(1+(2.71828**(-(b0+(b1*X1[i])+(b2*X2[i]))))))*100\n",
    "    print(prob)"
   ]
  },
  {
   "cell_type": "code",
   "execution_count": null,
   "id": "behavioral-wheel",
   "metadata": {},
   "outputs": [],
   "source": []
  }
 ],
 "metadata": {
  "kernelspec": {
   "display_name": "Python 3",
   "language": "python",
   "name": "python3"
  },
  "language_info": {
   "codemirror_mode": {
    "name": "ipython",
    "version": 3
   },
   "file_extension": ".py",
   "mimetype": "text/x-python",
   "name": "python",
   "nbconvert_exporter": "python",
   "pygments_lexer": "ipython3",
   "version": "3.9.2"
  }
 },
 "nbformat": 4,
 "nbformat_minor": 5
}
