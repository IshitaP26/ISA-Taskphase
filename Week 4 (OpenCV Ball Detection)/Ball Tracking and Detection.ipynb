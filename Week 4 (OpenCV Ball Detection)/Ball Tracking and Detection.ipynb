{
 "cells": [
  {
   "cell_type": "code",
   "execution_count": 21,
   "id": "american-financing",
   "metadata": {},
   "outputs": [],
   "source": [
    "#import the necessary packages\n",
    "from collections import deque\n",
    "import numpy as np \n",
    "import cv2\n",
    "import time"
   ]
  },
  {
   "cell_type": "code",
   "execution_count": 22,
   "id": "worldwide-canal",
   "metadata": {},
   "outputs": [],
   "source": [
    "# will be tracking a yellow ball. Therefore defining the lower and upper boundaries of yellow in the HSV color space and initialize the list of tracked points\n",
    "yellow_lower = (20, 100, 100)\n",
    "yellow_upper = (20,255,255)\n",
    "pts = deque(maxlen=20)"
   ]
  },
  {
   "cell_type": "code",
   "execution_count": 23,
   "id": "answering-collapse",
   "metadata": {},
   "outputs": [],
   "source": [
    "# to capture the video\n",
    "cap=cv2.VideoCapture(0)"
   ]
  },
  {
   "cell_type": "code",
   "execution_count": 24,
   "id": "unknown-quick",
   "metadata": {},
   "outputs": [],
   "source": [
    "# allow the camera to warm up\n",
    "time.sleep(2.0)"
   ]
  },
  {
   "cell_type": "code",
   "execution_count": 25,
   "id": "unable-organizer",
   "metadata": {},
   "outputs": [
    {
     "ename": "TypeError",
     "evalue": "'numpy.ndarray' object is not callable",
     "output_type": "error",
     "traceback": [
      "\u001b[1;31m---------------------------------------------------------------------------\u001b[0m",
      "\u001b[1;31mTypeError\u001b[0m                                 Traceback (most recent call last)",
      "\u001b[1;32m<ipython-input-25-0903ef9636e7>\u001b[0m in \u001b[0;36m<module>\u001b[1;34m\u001b[0m\n\u001b[0;32m      5\u001b[0m \u001b[1;33m\u001b[0m\u001b[0m\n\u001b[0;32m      6\u001b[0m     \u001b[1;31m# blur the frame and convert it to the HSV color space\u001b[0m\u001b[1;33m\u001b[0m\u001b[1;33m\u001b[0m\u001b[1;33m\u001b[0m\u001b[0m\n\u001b[1;32m----> 7\u001b[1;33m     \u001b[0mblurred\u001b[0m \u001b[1;33m=\u001b[0m \u001b[0mcv2\u001b[0m\u001b[1;33m.\u001b[0m\u001b[0mGaussianBlur\u001b[0m\u001b[1;33m(\u001b[0m\u001b[0mframe\u001b[0m\u001b[1;33m(\u001b[0m\u001b[1;36m11\u001b[0m\u001b[1;33m,\u001b[0m\u001b[1;36m11\u001b[0m\u001b[1;33m)\u001b[0m\u001b[1;33m,\u001b[0m\u001b[1;36m0\u001b[0m\u001b[1;33m)\u001b[0m\u001b[1;33m\u001b[0m\u001b[1;33m\u001b[0m\u001b[0m\n\u001b[0m\u001b[0;32m      8\u001b[0m     \u001b[0mhsv\u001b[0m \u001b[1;33m=\u001b[0m \u001b[0mcv2\u001b[0m\u001b[1;33m.\u001b[0m\u001b[0mcvtColor\u001b[0m\u001b[1;33m(\u001b[0m\u001b[0mblurred\u001b[0m\u001b[1;33m,\u001b[0m \u001b[0mcv2\u001b[0m\u001b[1;33m.\u001b[0m\u001b[0mCOLOR_BGR2HSV\u001b[0m\u001b[1;33m)\u001b[0m\u001b[1;33m\u001b[0m\u001b[1;33m\u001b[0m\u001b[0m\n\u001b[0;32m      9\u001b[0m \u001b[1;33m\u001b[0m\u001b[0m\n",
      "\u001b[1;31mTypeError\u001b[0m: 'numpy.ndarray' object is not callable"
     ]
    }
   ],
   "source": [
    "# create a loop which lasts throughout the time the video is on and works over all frames\n",
    "while True:\n",
    "    #capture the current frame\n",
    "    ret,frame = cap.read()\n",
    "    \n",
    "    # blur the frame and convert it to the HSV color space\n",
    "    blurred = cv2.GaussianBlur(frame(11,11),0)\n",
    "    hsv = cv2.cvtColor(blurred, cv2.COLOR_BGR2HSV)\n",
    "    \n",
    "    # creating a mask for the yellow color by supplying the upper and lower HSV color boundaries, creates a binary mask to identify the ball\n",
    "    mask = cv2.inRange(hsv,yellow_lower,yellow_upper)\n",
    "    \n",
    "    # conductin erosion and dilation to remove any marks left on the ball for two iterations\n",
    "    mask = cv2.erode(mask,None,iterations = 2)\n",
    "    mask = cv2.dilate(mask, None, iterations = 2)\n",
    "    \n",
    "    # finding the contours in the ball and initialize the center of the ball as none\n",
    "    contours = cv2.findContours(mask.copy(),cv2.RETR_EXTERNAL,cv2.CHAIN_APPROX_SIMPLE)\n",
    "    contours = contours[1]\n",
    "    center = None\n",
    "    \n",
    "    # checking to make sure that at least one contour is found\n",
    "    if len(contours>0):\n",
    "        #finding the maximum contour and finding the centroid of the minimum enclosing circle of the respective contour\n",
    "        c = max(contours, key=cv2.contourArea)\n",
    "        ((x,y),radius) = cv2.minEnclosingCircle(c)\n",
    "        M = cv2.moments(c)\n",
    "        center = (int(M[\"m10\"] / M[\"m00\"]), int(M[\"m01\"] / M[\"m00\"]))\n",
    "        \n",
    "        # check that the radius is at least of a certain minimum length\n",
    "        if radius > 10:\n",
    "            # creating circle around boundary of the ball\n",
    "            cv2.circle(frame,(int(x),int(y)), int(radius), (0,255,255), 2)\n",
    "            # indicating the centroid of the ball\n",
    "            cv2.circle(frame, center, 5, (0,0,255), -1)\n",
    "    \n",
    "    # append the centroid to the pts list\n",
    "    pts.appendleft(center)       \n",
    "    \n",
    "    "
   ]
  },
  {
   "cell_type": "code",
   "execution_count": null,
   "id": "fixed-england",
   "metadata": {},
   "outputs": [],
   "source": [
    "# showing the points at which the ball has previously been tracked\n",
    "for i in range (1,len(pts)):\n",
    "    # ignoring any points that are None\n",
    "    if pts[i-1] is None or pts[i] is None:\n",
    "        continue\n",
    "    \n",
    "    # computing the thickness of the contrail and draw the line\n",
    "    thickness = int(np.sqrt(20/ float(i+1))*2.5)\n",
    "    cv2.line(fram, pts[i-1], pts[i], (0,0,255), thickness)\n",
    "    "
   ]
  },
  {
   "cell_type": "code",
   "execution_count": null,
   "id": "decent-wedding",
   "metadata": {},
   "outputs": [],
   "source": [
    "# showing the final output\n",
    "\n",
    "cv2.imshow(\"Frame\",frame)\n",
    "key = cv2.waitKey(1) & 0xFF"
   ]
  },
  {
   "cell_type": "code",
   "execution_count": null,
   "id": "outstanding-wholesale",
   "metadata": {},
   "outputs": [],
   "source": [
    "# if the key q is pressed the loop will stop\n",
    "\n",
    "if key == ord(\"q\"):\n",
    "    sys.exit()"
   ]
  },
  {
   "cell_type": "code",
   "execution_count": 26,
   "id": "every-variable",
   "metadata": {},
   "outputs": [],
   "source": [
    "cap.release()\n",
    "cv2.destroyAllWindows()"
   ]
  }
 ],
 "metadata": {
  "kernelspec": {
   "display_name": "Python 3",
   "language": "python",
   "name": "python3"
  },
  "language_info": {
   "codemirror_mode": {
    "name": "ipython",
    "version": 3
   },
   "file_extension": ".py",
   "mimetype": "text/x-python",
   "name": "python",
   "nbconvert_exporter": "python",
   "pygments_lexer": "ipython3",
   "version": "3.9.4"
  }
 },
 "nbformat": 4,
 "nbformat_minor": 5
}
